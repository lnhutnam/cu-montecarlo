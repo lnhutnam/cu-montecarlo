{
 "cells": [
  {
   "cell_type": "code",
   "execution_count": 13,
   "metadata": {},
   "outputs": [
    {
     "name": "stdout",
     "output_type": "stream",
     "text": [
      "/opt/cuda/bin/nvcc -ccbin g++ -m64 -gencode arch=compute_50,code=sm_50 -gencode arch=compute_60,code=sm_60 -gencode arch=compute_60,code=compute_60 -o cudran_monte_carlo cudran_monte_carlo_gpu.o -lcudart -lcurand\n",
      "mkdir -p ./bin/x86_64/linux/release\n",
      "cp cudran_monte_carlo ./bin/x86_64/linux/release\n"
     ]
    }
   ],
   "source": [
    "!make SMS=\"50 60\""
   ]
  },
  {
   "cell_type": "code",
   "execution_count": 15,
   "metadata": {},
   "outputs": [
    {
     "name": "stdout",
     "output_type": "stream",
     "text": [
      "GPU Device 0: \"Pascal\" with compute capability 6.1\n",
      "\n",
      "CURAND normal RNG  execution time (ms): 45.634335,  samples/sec: 4.207358e+09 \n",
      "Monte Carlo kernel execution time (ms): 7.636992 \n",
      "\n",
      "Average value and standard deviation of error  =    0.41732913    0.00048176\n",
      "\n"
     ]
    }
   ],
   "source": [
    "!./cudran_monte_carlo"
   ]
  },
  {
   "cell_type": "code",
   "execution_count": 16,
   "metadata": {},
   "outputs": [
    {
     "name": "stdout",
     "output_type": "stream",
     "text": [
      "/opt/cuda/bin/nvcc -ccbin g++ -I./includes -m64 --threads 0 --std=c++11 -gencode arch=compute_50,code=sm_50 -gencode arch=compute_60,code=sm_60 -gencode arch=compute_60,code=compute_60 -o cudran_monte_carlo_gpu.o -c cudran_monte_carlo_gpu.cu\n",
      "/opt/cuda/bin/nvcc -ccbin g++ -m64 -gencode arch=compute_50,code=sm_50 -gencode arch=compute_60,code=sm_60 -gencode arch=compute_60,code=compute_60 -o cudran_monte_carlo cudran_monte_carlo_gpu.o -lcudart -lcurand\n",
      "mkdir -p ./bin/x86_64/linux/release\n",
      "cp cudran_monte_carlo ./bin/x86_64/linux/release\n"
     ]
    }
   ],
   "source": [
    "!make SMS=\"50 60\""
   ]
  },
  {
   "cell_type": "code",
   "execution_count": 17,
   "metadata": {},
   "outputs": [
    {
     "name": "stdout",
     "output_type": "stream",
     "text": [
      "GPU Device 0: \"Pascal\" with compute capability 6.1\n",
      "\n",
      "CURAND normal RNG  execution time (ms): 24.796160,  samples/sec: 7.743135e+09 \n",
      "Monte Carlo kernel execution time (ms): 64.573441 \n",
      "\n",
      "Average value and standard deviation of error  =    0.41732814    0.00048176\n",
      "\n"
     ]
    }
   ],
   "source": [
    "!./cudran_monte_carlo"
   ]
  },
  {
   "cell_type": "code",
   "execution_count": 18,
   "metadata": {},
   "outputs": [
    {
     "name": "stdout",
     "output_type": "stream",
     "text": [
      "rm -f cudran_monte_carlo cudran_monte_carlo_gpu.o\n",
      "rm -rf /bin/x86_64/linux/release/cudran_monte_carlo\n"
     ]
    }
   ],
   "source": [
    "!make clean\n",
    "!rm -rf bin"
   ]
  }
 ],
 "metadata": {
  "kernelspec": {
   "display_name": "Python 3.10.8 64-bit",
   "language": "python",
   "name": "python3"
  },
  "language_info": {
   "codemirror_mode": {
    "name": "ipython",
    "version": 3
   },
   "file_extension": ".py",
   "mimetype": "text/x-python",
   "name": "python",
   "nbconvert_exporter": "python",
   "pygments_lexer": "ipython3",
   "version": "3.10.8"
  },
  "orig_nbformat": 4,
  "vscode": {
   "interpreter": {
    "hash": "e7370f93d1d0cde622a1f8e1c04877d8463912d04d973331ad4851f04de6915a"
   }
  }
 },
 "nbformat": 4,
 "nbformat_minor": 2
}
